{
 "cells": [
  {
   "cell_type": "code",
   "execution_count": null,
   "id": "71d0db07",
   "metadata": {},
   "outputs": [],
   "source": [
    "import glob\n",
    "import os\n",
    "import csv\n",
    "import time\n",
    "cran_package = open('./assignment_data/2021-10-31.csv', 'r')\n",
    "read_data= cran_package.readlines()\n",
    "\n",
    "for i in range(len(read_data)):\n",
    "    if i % 1000 == 0:\n",
    "        time.sleep(3)\n",
    "        x=1\n",
    "        while os.path.exists(\"./assignStreaming/log%s.csv\" % x):\n",
    "            x +=1 \n",
    "        dataset= open('./assignStreaming/log%s.csv' % x, 'w+')\n",
    "        dataset.writelines(read_data[i:i+1000])"
   ]
  },
  {
   "cell_type": "code",
   "execution_count": null,
   "id": "eeaef7b6",
   "metadata": {},
   "outputs": [],
   "source": []
  },
  {
   "cell_type": "code",
   "execution_count": null,
   "id": "605773d6",
   "metadata": {},
   "outputs": [],
   "source": []
  },
  {
   "cell_type": "code",
   "execution_count": null,
   "id": "2efec1e8",
   "metadata": {},
   "outputs": [],
   "source": []
  }
 ],
 "metadata": {
  "kernelspec": {
   "display_name": "Python 3",
   "language": "python",
   "name": "python3"
  },
  "language_info": {
   "codemirror_mode": {
    "name": "ipython",
    "version": 3
   },
   "file_extension": ".py",
   "mimetype": "text/x-python",
   "name": "python",
   "nbconvert_exporter": "python",
   "pygments_lexer": "ipython3",
   "version": "3.6.9"
  }
 },
 "nbformat": 4,
 "nbformat_minor": 5
}
